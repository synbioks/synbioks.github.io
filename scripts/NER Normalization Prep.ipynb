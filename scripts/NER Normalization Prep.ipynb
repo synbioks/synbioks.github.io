{
 "cells": [
  {
   "cell_type": "code",
   "execution_count": 1,
   "metadata": {},
   "outputs": [],
   "source": [
    "import json\n",
    "import csv\n",
    "import pathlib"
   ]
  },
  {
   "cell_type": "code",
   "execution_count": 4,
   "metadata": {},
   "outputs": [],
   "source": [
    "source = pathlib.Path(\"C:/users/jjett2/desktop/SynthBio/json-ner-annotation-20210205.tar/json-ner-annotation-20210205/\")"
   ]
  },
  {
   "cell_type": "code",
   "execution_count": 5,
   "metadata": {},
   "outputs": [
    {
     "data": {
      "text/plain": [
       "True"
      ]
     },
     "execution_count": 5,
     "metadata": {},
     "output_type": "execute_result"
    }
   ],
   "source": [
    "#source.exists()"
   ]
  },
  {
   "cell_type": "code",
   "execution_count": 6,
   "metadata": {},
   "outputs": [],
   "source": [
    "jsonfiles = list(source.glob(\"*.json\"))"
   ]
  },
  {
   "cell_type": "code",
   "execution_count": 8,
   "metadata": {},
   "outputs": [
    {
     "data": {
      "text/plain": [
       "897"
      ]
     },
     "execution_count": 8,
     "metadata": {},
     "output_type": "execute_result"
    }
   ],
   "source": [
    "#len(jsonfiles)"
   ]
  },
  {
   "cell_type": "code",
   "execution_count": 26,
   "metadata": {},
   "outputs": [],
   "source": [
    "allrows = []\n",
    "for f in jsonfiles:\n",
    "    #print(f)\n",
    "    data = json.loads(f.read_text())\n",
    "    #print(data.keys())\n",
    "    pub_num = data[\"pub_num\"]\n",
    "    #print(pub_num)\n",
    "    body = data[\"body\"]\n",
    "    for text_node in body:\n",
    "        ner_annotations = text_node[\"ner_annotations\"]\n",
    "        if len(ner_annotations) > 0:\n",
    "            #print(len(ner_annotations))\n",
    "            for result in ner_annotations:\n",
    "                #print(result.keys())\n",
    "                term = result[\"ner_mention\"]\n",
    "                kinds = result[\"ner_instance_array\"]\n",
    "                kind_results = []\n",
    "                for kind in kinds:\n",
    "                    kind_results.append(kind[\"type\"])\n",
    "                    #print(term,len(kinds))\n",
    "                #print(kind_results)\n",
    "                num_kinds = len(set(kind_results))\n",
    "                #if num_kinds != 1:\n",
    "                if num_kinds == 1:\n",
    "                    #print(pub_num,term,kind_results[0])\n",
    "                    row = [pub_num,term,kind_results[0]]\n",
    "                    allrows.append(row)"
   ]
  },
  {
   "cell_type": "code",
   "execution_count": 34,
   "metadata": {},
   "outputs": [],
   "source": [
    "#allrows\n",
    "headers = [\"pub_num\",\"term\",\"kind\"]\n",
    "\n",
    "\n",
    "#this uses my local directory for data security purposes and needs to be changed for whatever the local computing environment is\n",
    "with open(\"C:/users/jjett2/desktop/SynthBio/NER_Norm_In.csv\",\"w\",encoding = \"utf-8\",newline=\"\") as f_out:\n",
    "    csvout = csv.writer(f_out)\n",
    "    csvout.writerow(headers)\n",
    "    csvout.writerows(allrows)"
   ]
  },
  {
   "cell_type": "code",
   "execution_count": null,
   "metadata": {},
   "outputs": [],
   "source": []
  }
 ],
 "metadata": {
  "kernelspec": {
   "display_name": "Python 3",
   "language": "python",
   "name": "python3"
  },
  "language_info": {
   "codemirror_mode": {
    "name": "ipython",
    "version": 3
   },
   "file_extension": ".py",
   "mimetype": "text/x-python",
   "name": "python",
   "nbconvert_exporter": "python",
   "pygments_lexer": "ipython3",
   "version": "3.8.5"
  }
 },
 "nbformat": 4,
 "nbformat_minor": 4
}
